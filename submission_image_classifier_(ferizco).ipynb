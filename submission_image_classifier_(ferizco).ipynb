{
  "nbformat": 4,
  "nbformat_minor": 0,
  "metadata": {
    "colab": {
      "name": "submission image classifier (ferizco).ipynb",
      "provenance": []
    },
    "kernelspec": {
      "name": "python3",
      "display_name": "Python 3"
    },
    "language_info": {
      "name": "python"
    }
  },
  "cells": [
    {
      "cell_type": "markdown",
      "metadata": {
        "id": "55GgTi_A8J8V"
      },
      "source": [
        
      ]
    },
    {
      "cell_type": "markdown",
      "metadata": {
        "id": "Z854eahQ-J1L"
      },
      "source": [
        "Pada submission ini berupa program jaringan saraf tiruan yang menggunakan TensorFlow. Adapun program ini diharuskan untuk mengenali bentuk tangan yang membentuk batu, gunting dan kertas"
      ]
    },
    {
      "cell_type": "markdown",
      "metadata": {
        "id": "owetQtws-wxE"
      },
      "source": [
        "Langkah pertama adalah mengunduh dataset yang telah disediakan dengan wget command"
      ]
    },
    {
      "cell_type": "code",
      "metadata": {
        "colab": {
          "base_uri": "https://localhost:8080/"
        },
        "id": "bwOgCaZ5Be95",
        "outputId": "89797ae7-91e5-40a5-e586-bad1b95d4702"
      },
      "source": [
        "!wget --no-check-certificate \\\n",
        "  https://dicodingacademy.blob.core.windows.net/picodiploma/ml_pemula_academy/rockpaperscissors.zip \\\n",
        "  -O /media/rockpaperscissors.zip"
      ],
      "execution_count": 4,
      "outputs": [
        {
          "output_type": "stream",
          "text": [
            "--2021-07-18 05:11:03--  https://dicodingacademy.blob.core.windows.net/picodiploma/ml_pemula_academy/rockpaperscissors.zip\n",
            "Resolving dicodingacademy.blob.core.windows.net (dicodingacademy.blob.core.windows.net)... 52.239.197.36\n",
            "Connecting to dicodingacademy.blob.core.windows.net (dicodingacademy.blob.core.windows.net)|52.239.197.36|:443... connected.\n",
            "HTTP request sent, awaiting response... 200 OK\n",
            "Length: 322873683 (308M) [application/zip]\n",
            "Saving to: ‘/media/rockpaperscissors.zip’\n",
            "\n",
            "/media/rockpapersci 100%[===================>] 307.92M  4.03MB/s    in 74s     \n",
            "\n",
            "2021-07-18 05:12:18 (4.15 MB/s) - ‘/media/rockpaperscissors.zip’ saved [322873683/322873683]\n",
            "\n"
          ],
          "name": "stdout"
        }
      ]
    },
    {
      "cell_type": "markdown",
      "metadata": {
        "id": "tmc8kfND_muV"
      },
      "source": [
        "Setelah dataset terdownload maka dataset diekstrak terlebih dahulu dan diletakkan di folder media"
      ]
    },
    {
      "cell_type": "code",
      "metadata": {
        "id": "TZjdb8KCB5We"
      },
      "source": [
        "#mengimport modul untuk mengekstrak dataset yang telah di download \n",
        "import zipfile\n",
        "import os \n",
        "\n",
        "local_zip = '/media/rockpaperscissors.zip'\n",
        "zip_ref = zipfile.ZipFile(local_zip, 'r')\n",
        "zip_ref.extractall('/media')\n",
        "zip_ref.close()"
      ],
      "execution_count": 5,
      "outputs": []
    },
    {
      "cell_type": "markdown",
      "metadata": {
        "id": "Zl1GgoA0CSu6"
      },
      "source": [
        "setelah itu, mengecek terlebih dahulu apakah file dataset telah terekstrak dengan baik, dan mengecek jumlah masing-masing gambar "
      ]
    },
    {
      "cell_type": "code",
      "metadata": {
        "colab": {
          "base_uri": "https://localhost:8080/"
        },
        "id": "SDrkKXAmCfIp",
        "outputId": "bab0b346-e90f-44bd-b53f-0bf3aad803c2"
      },
      "source": [
        "os.listdir('/media/rockpaperscissors/')"
      ],
      "execution_count": 10,
      "outputs": [
        {
          "output_type": "execute_result",
          "data": {
            "text/plain": [
              "['paper', 'scissors', 'rock', 'README_rpc-cv-images.txt', 'rps-cv-images']"
            ]
          },
          "metadata": {
            "tags": []
          },
          "execution_count": 10
        }
      ]
    },
    {
      "cell_type": "code",
      "metadata": {
        "colab": {
          "base_uri": "https://localhost:8080/"
        },
        "id": "sxThXh9oEGtX",
        "outputId": "f42e81e4-bce5-4510-99f0-1a4e5b6cb94e"
      },
      "source": [
        "#melihat jumlah gambar batu atau rock\n",
        "print('Jumlah gambar batu:' ,len(os.listdir('/media/rockpaperscissors/rock')))\n",
        "\n",
        "#melihat jumlah gambar kertas atau paper\n",
        "print('Jumlah gambar kertas:' ,len(os.listdir('/media/rockpaperscissors/paper')))\n",
        "\n",
        "#melihat jumlah gambar gunting atauu scissors\n",
        "print('Jumlah gambar gunting:' ,len(os.listdir('/media/rockpaperscissors/scissors')))"
      ],
      "execution_count": 16,
      "outputs": [
        {
          "output_type": "stream",
          "text": [
            "Jumlah gambar batu: 726\n",
            "Jumlah gambar kertas: 712\n",
            "Jumlah gambar gunting: 750\n"
          ],
          "name": "stdout"
        }
      ]
    },
    {
      "cell_type": "markdown",
      "metadata": {
        "id": "Zy8KTnhSCntY"
      },
      "source": [
        "selanjutnya mengimport library yang dibutuhkan. Dalam hal ini yaitu TensorFlow dan Sklearn"
      ]
    },
    {
      "cell_type": "code",
      "metadata": {
        "id": "6ECX6pU6C7KI"
      },
      "source": [
        "import tensorflow as tf\n",
        "from tensorflow.keras.preprocessing.image import ImageDataGenerator\n",
        "from tensorflow.keras.optimizers import RMSprop\n",
        "from sklearn.model_selection import train_test_split"
      ],
      "execution_count": 17,
      "outputs": []
    },
    {
      "cell_type": "markdown",
      "metadata": {
        "id": "hLQqnj5dDJVC"
      },
      "source": [
        "selanjutnya membuat directory baru untuk train dan validation "
      ]
    },
    {
      "cell_type": "code",
      "metadata": {
        "id": "fHQXGH2XDbBa"
      },
      "source": [
        "basis_dir = '/media/rockpaperscissors'\n",
        "\n",
        "#membuat training folder\n",
        "training_fold = os.path.join(basis_dir, 'training')\n",
        "\n",
        "#membuat validation folder\n",
        "validation_fold = os.path.join(basis_dir, 'validation')"
      ],
      "execution_count": 27,
      "outputs": []
    },
    {
      "cell_type": "markdown",
      "metadata": {
        "id": "37O6NMqOHy32"
      },
      "source": [
        "Jika folder yang dibuat tidak ada maka membuatnya ulang dengan menggunakan method mkdir"
      ]
    },
    {
      "cell_type": "code",
      "metadata": {
        "id": "eKwUNYmjHBWU"
      },
      "source": [
        "#membuat ulang training folder\n",
        "if not os.path.exists(training_fold):\n",
        "    os.mkdir(training_fold)\n",
        "\n",
        "#membuat ulang validation folder\n",
        "if not os.path.exists(validation_fold):\n",
        "    os.mkdir(validation_fold)"
      ],
      "execution_count": 28,
      "outputs": []
    },
    {
      "cell_type": "code",
      "metadata": {
        "id": "0XsflnTTItzn"
      },
      "source": [
        "batu_fold = os.path.join('/media/rockpaperscissors/rock')\n",
        "kertas_fold = os.path.join('/media/rockpaperscissors/paper')\n",
        "gunting_fold = os.path.join('/media/rockpaperscissors/scissors')"
      ],
      "execution_count": 29,
      "outputs": []
    },
    {
      "cell_type": "markdown",
      "metadata": {
        "id": "stRbgp9GKk7z"
      },
      "source": [
        "langkah selanjutnya memecah folder menjadi training dan validation menggunakan train_tes_Split"
      ]
    },
    {
      "cell_type": "code",
      "metadata": {
        "id": "ICPBkPdpKvvK"
      },
      "source": [
        "#memecah folder batu\n",
        "train_batu_fold, val_batu_fold = train_test_split(os.listdir(batu_fold), test_size = 0.4 )\n",
        "\n",
        "#memecah folder kertas\n",
        "train_kertas_fold, val_kertas_fold = train_test_split(os.listdir(kertas_fold), test_size = 0.4 )\n",
        "\n",
        "#memecah folder gunting\n",
        "train_gunting_fold, val_gunting_fold = train_test_split(os.listdir(gunting_fold), test_size = 0.4)"
      ],
      "execution_count": 30,
      "outputs": []
    },
    {
      "cell_type": "markdown",
      "metadata": {
        "id": "JXcVrT1tLzCz"
      },
      "source": [
        "selanjutnya membuat subfolder dari folder training dan folder validation"
      ]
    },
    {
      "cell_type": "code",
      "metadata": {
        "id": "gcPnqsRSONJB"
      },
      "source": [
        "#membuat subfolder training\n",
        "train_batu = os.path.join(training_fold, 'rock')\n",
        "train_kertas = os.path.join(training_fold, 'paper')\n",
        "train_gunting = os.path.join(training_fold, 'scissors')\n",
        "\n",
        "#jika folder tidak ada maka membuat ulang folder\n",
        "if not os.path.exists(train_batu):\n",
        "    os.mkdir(train_batu)\n",
        "if not os.path.exists(train_kertas):\n",
        "    os.mkdir(train_kertas)\n",
        "if not os.path.exists(train_gunting):\n",
        "    os.mkdir(train_gunting)\n"
      ],
      "execution_count": 42,
      "outputs": []
    },
    {
      "cell_type": "code",
      "metadata": {
        "id": "JbJ4FItTPJ-w"
      },
      "source": [
        "#membuat subfolder validation\n",
        "val_batu = os.path.join(validation_fold, 'rock')\n",
        "val_kertas = os.path.join(validation_fold, 'paper')\n",
        "val_gunting = os.path.join(validation_fold, 'scissors')\n",
        "\n",
        "#jika folder tidak ada maka membuat ulang folder\n",
        "if not os.path.exists(val_batu):\n",
        "    os.mkdir(val_batu)\n",
        "if not os.path.exists(val_kertas):\n",
        "    os.mkdir(val_kertas)\n",
        "if not os.path.exists(val_gunting):\n",
        "    os.mkdir(val_gunting)"
      ],
      "execution_count": 43,
      "outputs": []
    },
    {
      "cell_type": "markdown",
      "metadata": {
        "id": "OCTEUtshUgA6"
      },
      "source": [
        "setelah subfolder terbuat maka selanjutnya mengcopy data dengan menggunakan library shutil "
      ]
    },
    {
      "cell_type": "code",
      "metadata": {
        "id": "4kI13CKcU11o"
      },
      "source": [
        "#import terlebih dahulu library shutil \n",
        "import shutil "
      ],
      "execution_count": 44,
      "outputs": []
    },
    {
      "cell_type": "code",
      "metadata": {
        "id": "X8E5-OlGU8rP"
      },
      "source": [
        "#mengcopy data train ke dalam subfolder\n",
        "for i in train_batu_fold:\n",
        "    shutil.copy(os.path.join(batu_fold, i), os.path.join(train_batu, i))\n",
        "for i in train_kertas_fold:\n",
        "    shutil.copy(os.path.join(kertas_fold, i), os.path.join(train_kertas, i))\n",
        "for i in train_gunting_fold:\n",
        "    shutil.copy(os.path.join(gunting_fold, i), os.path.join(train_gunting, i))"
      ],
      "execution_count": 45,
      "outputs": []
    },
    {
      "cell_type": "code",
      "metadata": {
        "id": "8iHJVc3FVt2X"
      },
      "source": [
        "#mengcopy data validation ke dalam subfolder \n",
        "for j in val_batu_fold:\n",
        "    shutil.copy(os.path.join(batu_fold, j), os.path.join(val_batu, j))\n",
        "for j in val_kertas_fold:\n",
        "    shutil.copy(os.path.join(kertas_fold, j), os.path.join(val_kertas, j))\n",
        "for j in val_gunting_fold:\n",
        "    shutil.copy(os.path.join(gunting_fold, j), os.path.join(val_gunting, j))"
      ],
      "execution_count": 46,
      "outputs": []
    },
    {
      "cell_type": "markdown",
      "metadata": {
        "id": "GXeY1l3HWjsK"
      },
      "source": [
        "selanjutnya melakukan augmentasi gambar "
      ]
    },
    {
      "cell_type": "code",
      "metadata": {
        "id": "8IGai-arW3vj"
      },
      "source": [
        "training_datagenerat = ImageDataGenerator(\n",
        "    rescale = 1./255,\n",
        "    rotation_range = 20,\n",
        "    shear_range=0.2,\n",
        "    zoom_range=0.2,\n",
        "    horizontal_flip = True,\n",
        "    fill_mode='nearest',\n",
        ")\n",
        "\n",
        "testing_datagenerat = ImageDataGenerator(\n",
        "    rescale = 1./255,\n",
        "    rotation_range = 20,\n",
        "    shear_range = 0.2,\n",
        "    zoom_range=0.2,\n",
        "    horizontal_flip = True,\n",
        "    fill_mode = 'nearest'\n",
        ")"
      ],
      "execution_count": 47,
      "outputs": []
    },
    {
      "cell_type": "markdown",
      "metadata": {
        "id": "wSUF5HDSXyMG"
      },
      "source": [
        "selanjutnya melakukan pemecahan data "
      ]
    },
    {
      "cell_type": "code",
      "metadata": {
        "colab": {
          "base_uri": "https://localhost:8080/"
        },
        "id": "dkdJGWcwYBF-",
        "outputId": "3832919e-0906-4715-e573-4596c6463d0c"
      },
      "source": [
        "train_generat = training_datagenerat.flow_from_directory(\n",
        "    training_fold,\n",
        "    target_size=(100,150),\n",
        "    batch_size=32,\n",
        "    shuffle=True,\n",
        "    class_mode='categorical'\n",
        ")\n",
        "\n",
        "validation_generat = testing_datagenerat.flow_from_directory(\n",
        "    validation_fold,\n",
        "    target_size=(100,150),\n",
        "    batch_size=32,\n",
        "    class_mode='categorical'\n",
        ")"
      ],
      "execution_count": 48,
      "outputs": [
        {
          "output_type": "stream",
          "text": [
            "Found 1312 images belonging to 3 classes.\n",
            "Found 876 images belonging to 3 classes.\n"
          ],
          "name": "stdout"
        }
      ]
    },
    {
      "cell_type": "markdown",
      "metadata": {
        "id": "x0Oq1PPkY16P"
      },
      "source": [
        "data berhasil dipecah, yaitu validation set 40%"
      ]
    },
    {
      "cell_type": "markdown",
      "metadata": {
        "id": "6JlsUfZJZGr7"
      },
      "source": [
        "langkah selanjutnya adalah membangun model jaringan saraf tiruan menggunakan keras"
      ]
    },
    {
      "cell_type": "code",
      "metadata": {
        "id": "wYyszuJ6ZcXx"
      },
      "source": [
        "modell = tf.keras.models.Sequential([\n",
        "                                    \n",
        "    #layer Konvolusi pertama dengan input gambar 100x150 dengan 3 byte warna                          \n",
        "    tf.keras.layers.Conv2D(16, (3,3), activation='relu', input_shape=(100, 150, 3)),\n",
        "    tf.keras.layers.MaxPooling2D(2,2),\n",
        "\n",
        "    #layer konvulasi kedua\n",
        "    tf.keras.layers.Conv2D(32, (3,3), activation='relu'),\n",
        "    tf.keras.layers.MaxPooling2D(2,2),\n",
        "\n",
        "    tf.keras.layers.Conv2D(64, (3,3), activation='relu'),\n",
        "    tf.keras.layers.MaxPooling2D(2,2),\n",
        "\n",
        "    tf.keras.layers.Conv2D(128, (3,3), activation='relu'),\n",
        "    tf.keras.layers.MaxPooling2D(2,2),\n",
        "\n",
        "    #Layer input untuk Deep Learning Neural Network\n",
        "    tf.keras.layers.Flatten(),\n",
        "    tf.keras.layers.Dropout(0.5),\n",
        "\n",
        "    #Hiden layer kedua dengan 512 neuron\n",
        "    tf.keras.layers.Dense(512, activation='relu'),\n",
        "\n",
        "    #Layer output\n",
        "    tf.keras.layers.Dense(3, activation='softmax')\n",
        "])"
      ],
      "execution_count": 49,
      "outputs": []
    },
    {
      "cell_type": "markdown",
      "metadata": {
        "id": "a8v_ih55a-Wm"
      },
      "source": [
        "selanjutnya mengkompilasi modell dengan optimizer rmsprop dan menggunakan loss function categorical crossentropy "
      ]
    },
    {
      "cell_type": "code",
      "metadata": {
        "id": "q_hPduGcbKx1"
      },
      "source": [
        "modell.compile(optimizer='rmsprop',\n",
        "               loss='categorical_crossentropy', \n",
        "               metrics=['accuracy'])"
      ],
      "execution_count": 59,
      "outputs": []
    },
    {
      "cell_type": "markdown",
      "metadata": {
        "id": "uN24YFrwbtRZ"
      },
      "source": [
        "lalu melatih model jaringan saraf tiruan"
      ]
    },
    {
      "cell_type": "code",
      "metadata": {
        "colab": {
          "base_uri": "https://localhost:8080/"
        },
        "id": "DNKL3ehkby1v",
        "outputId": "a3b4a108-9d92-4f4e-e87a-e4edd97606c6"
      },
      "source": [
        "modell.fit(\n",
        "    train_generat,\n",
        "    epochs=20,\n",
        "    steps_per_epoch=25,\n",
        "    validation_data=validation_generat,\n",
        "    validation_steps=5,\n",
        "    verbose=2,\n",
        ")"
      ],
      "execution_count": 60,
      "outputs": [
        {
          "output_type": "stream",
          "text": [
            "Epoch 1/20\n",
            "25/25 - 18s - loss: 0.5681 - accuracy: 0.9112 - val_loss: 0.2577 - val_accuracy: 0.8938\n",
            "Epoch 2/20\n",
            "25/25 - 17s - loss: 0.1549 - accuracy: 0.9613 - val_loss: 0.1119 - val_accuracy: 0.9812\n",
            "Epoch 3/20\n",
            "25/25 - 17s - loss: 0.2005 - accuracy: 0.9525 - val_loss: 0.0748 - val_accuracy: 0.9812\n",
            "Epoch 4/20\n",
            "25/25 - 17s - loss: 0.0641 - accuracy: 0.9800 - val_loss: 0.0708 - val_accuracy: 0.9875\n",
            "Epoch 5/20\n",
            "25/25 - 17s - loss: 0.1396 - accuracy: 0.9475 - val_loss: 0.0479 - val_accuracy: 0.9875\n",
            "Epoch 6/20\n",
            "25/25 - 17s - loss: 0.0522 - accuracy: 0.9825 - val_loss: 0.3896 - val_accuracy: 0.8938\n",
            "Epoch 7/20\n",
            "25/25 - 17s - loss: 0.0884 - accuracy: 0.9650 - val_loss: 0.2576 - val_accuracy: 0.8813\n",
            "Epoch 8/20\n",
            "25/25 - 17s - loss: 0.1333 - accuracy: 0.9638 - val_loss: 0.1387 - val_accuracy: 0.9563\n",
            "Epoch 9/20\n",
            "25/25 - 17s - loss: 0.0809 - accuracy: 0.9725 - val_loss: 0.0790 - val_accuracy: 0.9812\n",
            "Epoch 10/20\n",
            "25/25 - 17s - loss: 0.0725 - accuracy: 0.9800 - val_loss: 0.0502 - val_accuracy: 0.9750\n",
            "Epoch 11/20\n",
            "25/25 - 17s - loss: 0.1088 - accuracy: 0.9688 - val_loss: 0.0527 - val_accuracy: 0.9750\n",
            "Epoch 12/20\n",
            "25/25 - 17s - loss: 0.0912 - accuracy: 0.9675 - val_loss: 0.0494 - val_accuracy: 0.9875\n",
            "Epoch 13/20\n",
            "25/25 - 17s - loss: 0.0318 - accuracy: 0.9900 - val_loss: 0.1410 - val_accuracy: 0.9750\n",
            "Epoch 14/20\n",
            "25/25 - 17s - loss: 0.1231 - accuracy: 0.9625 - val_loss: 0.0405 - val_accuracy: 0.9937\n",
            "Epoch 15/20\n",
            "25/25 - 17s - loss: 0.0499 - accuracy: 0.9837 - val_loss: 0.2948 - val_accuracy: 0.9062\n",
            "Epoch 16/20\n",
            "25/25 - 17s - loss: 0.1209 - accuracy: 0.9638 - val_loss: 0.0194 - val_accuracy: 1.0000\n",
            "Epoch 17/20\n",
            "25/25 - 17s - loss: 0.0396 - accuracy: 0.9875 - val_loss: 0.1672 - val_accuracy: 0.9688\n",
            "Epoch 18/20\n",
            "25/25 - 17s - loss: 0.0847 - accuracy: 0.9762 - val_loss: 0.1534 - val_accuracy: 0.9500\n",
            "Epoch 19/20\n",
            "25/25 - 17s - loss: 0.0449 - accuracy: 0.9812 - val_loss: 0.0069 - val_accuracy: 1.0000\n",
            "Epoch 20/20\n",
            "25/25 - 17s - loss: 0.0539 - accuracy: 0.9812 - val_loss: 0.0730 - val_accuracy: 0.9750\n"
          ],
          "name": "stdout"
        },
        {
          "output_type": "execute_result",
          "data": {
            "text/plain": [
              "<tensorflow.python.keras.callbacks.History at 0x7fb290935ed0>"
            ]
          },
          "metadata": {
            "tags": []
          },
          "execution_count": 60
        }
      ]
    },
    {
      "cell_type": "markdown",
      "metadata": {
        "id": "05jTrf3vfqQ9"
      },
      "source": [
        "uji coba model klasifikasi gambar "
      ]
    },
    {
      "cell_type": "code",
      "metadata": {
        "id": "b0hVfT9df9Bc"
      },
      "source": [
        "#import semua library yang dibutuhkan\n",
        "import numpy as np\n",
        "from google.colab import files\n",
        "from keras.preprocessing import image\n",
        "import matplotlib.pyplot as plt\n",
        "import matplotlib.image as mpimg"
      ],
      "execution_count": 61,
      "outputs": []
    },
    {
      "cell_type": "code",
      "metadata": {
        "colab": {
          "resources": {
            "http://localhost:8080/nbextensions/google.colab/files.js": {
              "data": "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",
              "ok": true,
              "headers": [
                [
                  "content-type",
                  "application/javascript"
                ]
              ],
              "status": 200,
              "status_text": ""
            }
          },
          "base_uri": "https://localhost:8080/",
          "height": 360
        },
        "id": "uDvWA7WwfoEU",
        "outputId": "3888aed2-8205-4340-bcd3-30c68e8a45e9"
      },
      "source": [
        "%matplotlib inline\n",
        "\n",
        "upload_gambar = files.upload()\n",
        "\n",
        "for fn in upload_gambar.keys():\n",
        "    path = fn\n",
        "    img = image.load_img(path, target_size=(100,150))\n",
        "    imgplot = plt.imshow(img)\n",
        "    y = image.img_to_array(img)\n",
        "    y = np.expand_dims(y, axis=0)\n",
        "\n",
        "    gambar = np.vstack([y])\n",
        "    kelas = modell.predict(gambar, batch_size=10)\n",
        "\n",
        "    print(fn)\n",
        "    if kelas[0][0] == 1:\n",
        "        print('Gambar tangan tersebut menunjukkan bentuk kertas')\n",
        "    elif kelas[0][1] == 1:\n",
        "        print('Gambar tangan tersebut menunjukkan bentuk batu')\n",
        "    elif kelas[0][2] == 1:\n",
        "        print('Gambar tangan tersebut menunjukkan bentuk gunting')\n",
        "    else:\n",
        "        print('Gambar tidak diketahui') "
      ],
      "execution_count": 66,
      "outputs": [
        {
          "output_type": "display_data",
          "data": {
            "text/html": [
              "\n",
              "     <input type=\"file\" id=\"files-bef1485a-99ee-4232-9f5d-bcef9af1721c\" name=\"files[]\" multiple disabled\n",
              "        style=\"border:none\" />\n",
              "     <output id=\"result-bef1485a-99ee-4232-9f5d-bcef9af1721c\">\n",
              "      Upload widget is only available when the cell has been executed in the\n",
              "      current browser session. Please rerun this cell to enable.\n",
              "      </output>\n",
              "      <script src=\"/nbextensions/google.colab/files.js\"></script> "
            ],
            "text/plain": [
              "<IPython.core.display.HTML object>"
            ]
          },
          "metadata": {
            "tags": []
          }
        },
        {
          "output_type": "stream",
          "text": [
            "Saving rsz_gambarr.jpg to rsz_gambarr (3).jpg\n",
            "rsz_gambarr.jpg\n",
            "Gambar tangan tersebut menunjukkan bentuk gunting\n"
          ],
          "name": "stdout"
        },
        {
          "output_type": "display_data",
          "data": {
            "image/png": "[encoded data removed]",
            "text/plain": [
              "<Figure size 432x288 with 1 Axes>"
            ]
          },
          "metadata": {
            "tags": [],
            "needs_background": "light"
          }
        }
      ]
    },
    {
      "cell_type": "markdown",
      "metadata": {
        "id": "xENv0-iwi7ov"
      },
      "source": [
        "model telah selesai di uji coba dan hasilnya tepat \n",
        "\n",
        "Sekian dan Terima Kasih"
      ]
    }
  ]
}
